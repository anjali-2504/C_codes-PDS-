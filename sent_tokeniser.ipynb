{
  "nbformat": 4,
  "nbformat_minor": 0,
  "metadata": {
    "colab": {
      "name": "sent_tokeniser.ipynb",
      "provenance": [],
      "collapsed_sections": [],
      "mount_file_id": "11PyjNbvmrp1O298DtX9AJCS9FmiAYEh0",
      "authorship_tag": "ABX9TyPPt8Z15KR6Z99xk8fSAqzw",
      "include_colab_link": true
    },
    "kernelspec": {
      "name": "python3",
      "display_name": "Python 3"
    },
    "language_info": {
      "name": "python"
    }
  },
  "cells": [
    {
      "cell_type": "markdown",
      "metadata": {
        "id": "view-in-github",
        "colab_type": "text"
      },
      "source": [
        "<a href=\"https://colab.research.google.com/github/anjali-2504/A-numbers_unique_partition_recursion_dynamic_memory_allocation_but_random_order_count/blob/main/sent_tokeniser.ipynb\" target=\"_parent\"><img src=\"https://colab.research.google.com/assets/colab-badge.svg\" alt=\"Open In Colab\"/></a>"
      ]
    },
    {
      "cell_type": "code",
      "metadata": {
        "id": "Cyf3JE8j8sF6",
        "colab": {
          "base_uri": "https://localhost:8080/"
        },
        "outputId": "68a1387b-e5a2-43ba-83c9-0cf7f19b6cae"
      },
      "source": [
        "import sys\n",
        "from collections import OrderedDict\n",
        "!pip install transformers\n",
        "import transformers\n",
        "from transformers import BertModel, BertTokenizer, AdamW, get_linear_schedule_with_warmup\n",
        "from tqdm import tqdm\n",
        "\n",
        "def BERTData(sent_file, pointer_file, bert_sent_file, bert_pointer_file):#only changed here\n",
        "    bert_model_name = 'bert-base-cased'\n",
        "    sents = open(sent_file).readlines()\n",
        "    pointer_lines = open(pointer_file).readlines()\n",
        "    bert_tokenizer = BertTokenizer.from_pretrained(\"bert-base-cased\", do_basic_tokenize=False)\n",
        "\n",
        "    writer1 = open(bert_sent_file, 'w+')\n",
        "    writer2 = open(bert_pointer_file, 'w+')\n",
        "    max_len = 0\n",
        "    max_len_tok = 0\n",
        "    max_trg_len=0\n",
        "    for i in tqdm(range(len(sents))):\n",
        "        sent = sents[i].strip()#sentence\n",
        "\n",
        "        tokens = sent.split(' ')#token list\n",
        "        bert_tokens = []###\n",
        "        token_map = OrderedDict()\n",
        "        bert_idx = 0\n",
        "        #bert_pos_seq = []###\n",
        "        #bert_ent_seq = []###\n",
        "        for j in range(len(tokens)):\n",
        "            sub_tokens = bert_tokenizer.tokenize(tokens[j])\n",
        "            if len(sub_tokens) == 0:\n",
        "                sub_tokens = [tokens[j]]\n",
        "            bert_tokens += sub_tokens\n",
        "            token_map[j] = (bert_idx, bert_idx + len(sub_tokens) - 1)\n",
        "            bert_idx += len(sub_tokens)\n",
        "\n",
        "        if max_len_tok < len(bert_tokens):\n",
        "            max_len_tok = len(bert_tokens)\n",
        "\n",
        "        bert_pointers = []\n",
        "\n",
        "        pointer_line = pointer_lines[i].strip()\n",
        "        pointers = pointer_line.split(' | ')\n",
        "        for p in pointers:\n",
        "            ev,t_s, t_e,  a_s, a_e= p.split()#trigger_start, trigger_end, event_type, company_start, company_end\n",
        "            new_p = [str(token_map[int(t_s)][0]), str(token_map[int(t_e)][1]), ev, str(token_map[int(a_s)][0]), str(token_map[int(a_e)][1])]\n",
        "            bert_pointers.append(' '.join(new_p))\n",
        "\n",
        "        if max_trg_len < len(bert_pointers):\n",
        "            max_trg_len = len(bert_pointers)\n",
        "        bert_sent = ' '.join(bert_tokens)\n",
        "\n",
        "        bert_pointer_line = ' | '.join(bert_pointers)\n",
        "\n",
        "        writer1.write(bert_sent + '\\n')\n",
        "        writer2.write(bert_pointer_line + '\\n')\n",
        "\n",
        "    writer1.close()\n",
        "    writer2.close()\n",
        "\n",
        "def DepDist():\n",
        "    print()\n",
        "\n",
        "\n",
        "if __name__ == \"__main__\":\n",
        "    sent_file='/content/sent4.txt'#print(sys.argv[1])\n",
        "    point_file='/content/pointer4.txt'#print(sys.argv[2])\n",
        "\n",
        "    bert_sent_file='dev_bert.sent'#print(sys.argv[4])\n",
        "    bert_point_file='dev_bert.pointer'#print(sys.argv[5])\n",
        "\n",
        "    BERTData(sent_file, point_file, bert_sent_file, bert_point_file)"
      ],
      "execution_count": 4,
      "outputs": [
        {
          "output_type": "stream",
          "name": "stdout",
          "text": [
            "Requirement already satisfied: transformers in /usr/local/lib/python3.7/dist-packages (4.12.5)\n",
            "Requirement already satisfied: filelock in /usr/local/lib/python3.7/dist-packages (from transformers) (3.4.0)\n",
            "Requirement already satisfied: tokenizers<0.11,>=0.10.1 in /usr/local/lib/python3.7/dist-packages (from transformers) (0.10.3)\n",
            "Requirement already satisfied: packaging>=20.0 in /usr/local/lib/python3.7/dist-packages (from transformers) (21.3)\n",
            "Requirement already satisfied: pyyaml>=5.1 in /usr/local/lib/python3.7/dist-packages (from transformers) (6.0)\n",
            "Requirement already satisfied: regex!=2019.12.17 in /usr/local/lib/python3.7/dist-packages (from transformers) (2019.12.20)\n",
            "Requirement already satisfied: tqdm>=4.27 in /usr/local/lib/python3.7/dist-packages (from transformers) (4.62.3)\n",
            "Requirement already satisfied: sacremoses in /usr/local/lib/python3.7/dist-packages (from transformers) (0.0.46)\n",
            "Requirement already satisfied: huggingface-hub<1.0,>=0.1.0 in /usr/local/lib/python3.7/dist-packages (from transformers) (0.1.2)\n",
            "Requirement already satisfied: requests in /usr/local/lib/python3.7/dist-packages (from transformers) (2.23.0)\n",
            "Requirement already satisfied: importlib-metadata in /usr/local/lib/python3.7/dist-packages (from transformers) (4.8.2)\n",
            "Requirement already satisfied: numpy>=1.17 in /usr/local/lib/python3.7/dist-packages (from transformers) (1.19.5)\n",
            "Requirement already satisfied: typing-extensions>=3.7.4.3 in /usr/local/lib/python3.7/dist-packages (from huggingface-hub<1.0,>=0.1.0->transformers) (3.10.0.2)\n",
            "Requirement already satisfied: pyparsing!=3.0.5,>=2.0.2 in /usr/local/lib/python3.7/dist-packages (from packaging>=20.0->transformers) (3.0.6)\n",
            "Requirement already satisfied: zipp>=0.5 in /usr/local/lib/python3.7/dist-packages (from importlib-metadata->transformers) (3.6.0)\n",
            "Requirement already satisfied: chardet<4,>=3.0.2 in /usr/local/lib/python3.7/dist-packages (from requests->transformers) (3.0.4)\n",
            "Requirement already satisfied: urllib3!=1.25.0,!=1.25.1,<1.26,>=1.21.1 in /usr/local/lib/python3.7/dist-packages (from requests->transformers) (1.24.3)\n",
            "Requirement already satisfied: certifi>=2017.4.17 in /usr/local/lib/python3.7/dist-packages (from requests->transformers) (2021.10.8)\n",
            "Requirement already satisfied: idna<3,>=2.5 in /usr/local/lib/python3.7/dist-packages (from requests->transformers) (2.10)\n",
            "Requirement already satisfied: six in /usr/local/lib/python3.7/dist-packages (from sacremoses->transformers) (1.15.0)\n",
            "Requirement already satisfied: joblib in /usr/local/lib/python3.7/dist-packages (from sacremoses->transformers) (1.1.0)\n",
            "Requirement already satisfied: click in /usr/local/lib/python3.7/dist-packages (from sacremoses->transformers) (7.1.2)\n"
          ]
        },
        {
          "output_type": "stream",
          "name": "stderr",
          "text": [
            "100%|██████████| 2193/2193 [00:01<00:00, 1653.06it/s]\n"
          ]
        }
      ]
    },
    {
      "cell_type": "code",
      "metadata": {
        "id": "CuLg9U0nXamg"
      },
      "source": [
        ""
      ],
      "execution_count": null,
      "outputs": []
    }
  ]
}